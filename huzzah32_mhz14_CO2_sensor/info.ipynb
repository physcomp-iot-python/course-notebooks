{
 "cells": [
  {
   "cell_type": "markdown",
   "metadata": {},
   "source": [
    "# Background\n",
    "Carbon dioxide (CO2) levels, humidity, and temperature are important parameters to sense in grow room environments whether for plants, mushrooms, or other critters.  Craig and Don had back in Feb 2017 thrown together an Feather Huzzah ESP8266 running micropython with an MH-Z14 NDIR CO2 sensor and an AM2315 humidity temperature sensor in order to install in Craig's brother's urban mushroom farm in Philadelphia, PA. We called the project [mycopython](https://github.com/p-v-o-s/mycopython).\n",
    "![mycopolitan growroom](https://raw.githubusercontent.com/p-v-o-s/mycopython/master/pics/mycopolitan_growroom.jpg)\n",
    "![mycopolitan shitakes](https://raw.githubusercontent.com/p-v-o-s/mycopython/master/pics/mycopolitan_shiitake.jpg)\n",
    "![mycopython](https://raw.githubusercontent.com/p-v-o-s/mycopython/master/pics/mycopython_close-up_lid-off.jpg)\n",
    "\n",
    "Here we want to recreate the basics of that system for a Physical Computing with Python student greenhouse project, but using the newer ESP32 based system to overcome some limitations of the ESP8266 (no hardware serial communication).\n",
    "\n",
    "The ESP32 is the big brother of the ESP8266 WiFi System-on-a-chip that can be found on the Adafruit Feather Huzzah32 board ([product page](https://www.adafruit.com/product/3405), [learning guide](https://learn.adafruit.com/adafruit-huzzah32-esp32-feather)) among other dev-boards.  The ESP32 currently has a [micropython port](http://micropython.org/), but not a circuitpython release.  We will be flashing the latest micropython release in the next section.\n",
    "![Feather Huzzah32](feather_3405_iso_ORIG.jpg)"
   ]
  },
  {
   "cell_type": "markdown",
   "metadata": {},
   "source": [
    "# Micropython Firmware Flashing (Debian Linux)\n",
    "Install `esptool` command:\n",
    "```\n",
    "sudo apt install python-pip\n",
    "sudo pip install --upgrade pip\n",
    "sudo pip install esptool --upgrade\n",
    "```\n",
    "Plug in the Huzzah32 or other dev-board, it should connect as a `/dev/ttyUSB*` device.  Using the matching port name, erase the current flash state and flash the new firmware:\n",
    "```\n",
    "esptool.py --port /dev/ttyUSB0 erase_flash\n",
    "esptool.py --chip esp32 --port /dev/ttyUSB0 write_flash -z 0x1000 esp32-20180511-v1.9.4.bin\n",
    "```"
   ]
  },
  {
   "cell_type": "markdown",
   "metadata": {},
   "source": [
    "# Load code with ampy\n",
    "Update Adafruit's `ampy` tool:\n",
    "```\n",
    "sudo pip install adafruit-ampy --upgrade\n",
    "```\n",
    "Put the `mhz14.py` library and the `main.py` code files on the device:\n",
    "```\n",
    "ampy --port /dev/ttyUSB0 put mhz14.py\n",
    "ampy --port /dev/ttyUSB0 put main.py\n",
    "```\n",
    "When you go into the REPL and soft-reset (press <ctrl-D>), you should see the CO2 PPM values being printed eve"
   ]
  },
  {
   "cell_type": "markdown",
   "metadata": {},
   "source": [
    "# Next Steps (Physcomp Sensors Team)\n",
    "- Modify `main.py` to post CO2 PPM to your Adafruit IO feed.  Hint go check out the code you wrote based on the [`adafruit_post` code](https://github.com/physcomp-iot-python/course-notebooks/blob/master/huzzah_adafruit_io/adafruit_post/hai.py)\n",
    "- Acquire the library code for the AM2315 humidity temp sensor from (https://github.com/p-v-o-s/mycopython/blob/master/am2315.py) and integrate into the system with a new AIO sensor feed.\n",
    "- Document you setup with pictures and rich text in a JupyterLab notebook."
   ]
  },
  {
   "cell_type": "code",
   "execution_count": null,
   "metadata": {},
   "outputs": [],
   "source": []
  }
 ],
 "metadata": {
  "kernelspec": {
   "display_name": "Python 3",
   "language": "python",
   "name": "python3"
  },
  "language_info": {
   "codemirror_mode": {
    "name": "ipython",
    "version": 3
   },
   "file_extension": ".py",
   "mimetype": "text/x-python",
   "name": "python",
   "nbconvert_exporter": "python",
   "pygments_lexer": "ipython3",
   "version": "3.6.5"
  }
 },
 "nbformat": 4,
 "nbformat_minor": 2
}
