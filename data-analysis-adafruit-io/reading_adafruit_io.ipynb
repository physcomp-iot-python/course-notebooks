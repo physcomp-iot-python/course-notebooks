{
 "cells": [
  {
   "cell_type": "markdown",
   "metadata": {},
   "source": [
    "## Example #2: Reading in an Adafruit.io datafile"
   ]
  },
  {
   "cell_type": "code",
   "execution_count": 38,
   "metadata": {},
   "outputs": [],
   "source": [
    "# create the path to the data file\n",
    "import pandas as pd\n",
    "\n",
    "# the file is named 'test1.csv'\n",
    "PATH='./test1.csv'\n",
    "\n",
    "# read in the data\n",
    "data=pd.read_csv(PATH)"
   ]
  },
  {
   "cell_type": "code",
   "execution_count": 39,
   "metadata": {},
   "outputs": [
    {
     "data": {
      "text/html": [
       "<div>\n",
       "<style scoped>\n",
       "    .dataframe tbody tr th:only-of-type {\n",
       "        vertical-align: middle;\n",
       "    }\n",
       "\n",
       "    .dataframe tbody tr th {\n",
       "        vertical-align: top;\n",
       "    }\n",
       "\n",
       "    .dataframe thead th {\n",
       "        text-align: right;\n",
       "    }\n",
       "</style>\n",
       "<table border=\"1\" class=\"dataframe\">\n",
       "  <thead>\n",
       "    <tr style=\"text-align: right;\">\n",
       "      <th></th>\n",
       "      <th>id</th>\n",
       "      <th>value</th>\n",
       "      <th>feed_id</th>\n",
       "      <th>created_at</th>\n",
       "      <th>lat</th>\n",
       "      <th>lon</th>\n",
       "      <th>ele</th>\n",
       "    </tr>\n",
       "  </thead>\n",
       "  <tbody>\n",
       "    <tr>\n",
       "      <th>0</th>\n",
       "      <td>0DX9QZHAKZ65RF1N6H55TYWA1V</td>\n",
       "      <td>0.500000</td>\n",
       "      <td>828217</td>\n",
       "      <td>2018-06-26 23:20:07 UTC</td>\n",
       "      <td>NaN</td>\n",
       "      <td>NaN</td>\n",
       "      <td>NaN</td>\n",
       "    </tr>\n",
       "    <tr>\n",
       "      <th>1</th>\n",
       "      <td>0DX9R393CN09706YFHXZXGPS5N</td>\n",
       "      <td>0.300000</td>\n",
       "      <td>828217</td>\n",
       "      <td>2018-06-26 23:26:40 UTC</td>\n",
       "      <td>NaN</td>\n",
       "      <td>NaN</td>\n",
       "      <td>NaN</td>\n",
       "    </tr>\n",
       "    <tr>\n",
       "      <th>2</th>\n",
       "      <td>0DX9RDRWPCGPV94SCHQ1VDPAGZ</td>\n",
       "      <td>16.000000</td>\n",
       "      <td>828217</td>\n",
       "      <td>2018-06-26 23:45:00 UTC</td>\n",
       "      <td>NaN</td>\n",
       "      <td>NaN</td>\n",
       "      <td>NaN</td>\n",
       "    </tr>\n",
       "    <tr>\n",
       "      <th>3</th>\n",
       "      <td>0DX9RDX97QRZZ72X5BAQ606741</td>\n",
       "      <td>396.000000</td>\n",
       "      <td>828217</td>\n",
       "      <td>2018-06-26 23:45:14 UTC</td>\n",
       "      <td>NaN</td>\n",
       "      <td>NaN</td>\n",
       "      <td>NaN</td>\n",
       "    </tr>\n",
       "    <tr>\n",
       "      <th>4</th>\n",
       "      <td>0DX9RFYQSXA06HKGY7N3MWEJDR</td>\n",
       "      <td>84.000000</td>\n",
       "      <td>828217</td>\n",
       "      <td>2018-06-26 23:48:49 UTC</td>\n",
       "      <td>NaN</td>\n",
       "      <td>NaN</td>\n",
       "      <td>NaN</td>\n",
       "    </tr>\n",
       "    <tr>\n",
       "      <th>5</th>\n",
       "      <td>0DX9RG1K6CZ4CE6A4HK4MPZ8R5</td>\n",
       "      <td>14.000000</td>\n",
       "      <td>828217</td>\n",
       "      <td>2018-06-26 23:48:58 UTC</td>\n",
       "      <td>NaN</td>\n",
       "      <td>NaN</td>\n",
       "      <td>NaN</td>\n",
       "    </tr>\n",
       "    <tr>\n",
       "      <th>6</th>\n",
       "      <td>0DX9RGY9N0SSE52X4J5Y22949R</td>\n",
       "      <td>23.000000</td>\n",
       "      <td>828217</td>\n",
       "      <td>2018-06-26 23:50:32 UTC</td>\n",
       "      <td>NaN</td>\n",
       "      <td>NaN</td>\n",
       "      <td>NaN</td>\n",
       "    </tr>\n",
       "    <tr>\n",
       "      <th>7</th>\n",
       "      <td>0DX9RY1CKN6T4DX44B5JXXC6F7</td>\n",
       "      <td>0.028321</td>\n",
       "      <td>828217</td>\n",
       "      <td>2018-06-27 00:13:25 UTC</td>\n",
       "      <td>NaN</td>\n",
       "      <td>NaN</td>\n",
       "      <td>NaN</td>\n",
       "    </tr>\n",
       "    <tr>\n",
       "      <th>8</th>\n",
       "      <td>0DX9S4YFEX74QAH29XB1AY55B1</td>\n",
       "      <td>0.500000</td>\n",
       "      <td>828217</td>\n",
       "      <td>2018-06-27 00:25:30 UTC</td>\n",
       "      <td>NaN</td>\n",
       "      <td>NaN</td>\n",
       "      <td>NaN</td>\n",
       "    </tr>\n",
       "    <tr>\n",
       "      <th>9</th>\n",
       "      <td>0DX9S5KZS2RR5Y5J958MF60873</td>\n",
       "      <td>0.812327</td>\n",
       "      <td>828217</td>\n",
       "      <td>2018-06-27 00:26:40 UTC</td>\n",
       "      <td>NaN</td>\n",
       "      <td>NaN</td>\n",
       "      <td>NaN</td>\n",
       "    </tr>\n",
       "    <tr>\n",
       "      <th>10</th>\n",
       "      <td>0DX9S5SBGV8KXE31CP268MZA2G</td>\n",
       "      <td>0.949176</td>\n",
       "      <td>828217</td>\n",
       "      <td>2018-06-27 00:26:58 UTC</td>\n",
       "      <td>NaN</td>\n",
       "      <td>NaN</td>\n",
       "      <td>NaN</td>\n",
       "    </tr>\n",
       "    <tr>\n",
       "      <th>11</th>\n",
       "      <td>0DX9S5VZWBSV78R9C0Q8V8W5C2</td>\n",
       "      <td>0.929870</td>\n",
       "      <td>828217</td>\n",
       "      <td>2018-06-27 00:27:07 UTC</td>\n",
       "      <td>NaN</td>\n",
       "      <td>NaN</td>\n",
       "      <td>NaN</td>\n",
       "    </tr>\n",
       "    <tr>\n",
       "      <th>12</th>\n",
       "      <td>0DX9S5X12MYGR97DA6WZW8BGW1</td>\n",
       "      <td>0.992966</td>\n",
       "      <td>828217</td>\n",
       "      <td>2018-06-27 00:27:10 UTC</td>\n",
       "      <td>NaN</td>\n",
       "      <td>NaN</td>\n",
       "      <td>NaN</td>\n",
       "    </tr>\n",
       "    <tr>\n",
       "      <th>13</th>\n",
       "      <td>0DX9S5XYF91WE00FC86YBYJD3B</td>\n",
       "      <td>0.363653</td>\n",
       "      <td>828217</td>\n",
       "      <td>2018-06-27 00:27:13 UTC</td>\n",
       "      <td>NaN</td>\n",
       "      <td>NaN</td>\n",
       "      <td>NaN</td>\n",
       "    </tr>\n",
       "    <tr>\n",
       "      <th>14</th>\n",
       "      <td>0DX9S5Z9P2GBZ9TTD6HBCXPV6R</td>\n",
       "      <td>0.535468</td>\n",
       "      <td>828217</td>\n",
       "      <td>2018-06-27 00:27:17 UTC</td>\n",
       "      <td>NaN</td>\n",
       "      <td>NaN</td>\n",
       "      <td>NaN</td>\n",
       "    </tr>\n",
       "    <tr>\n",
       "      <th>15</th>\n",
       "      <td>0DX9SY79H0PYPWPF5YBGEMSA49</td>\n",
       "      <td>0.400000</td>\n",
       "      <td>828217</td>\n",
       "      <td>2018-06-27 01:09:40 UTC</td>\n",
       "      <td>NaN</td>\n",
       "      <td>NaN</td>\n",
       "      <td>NaN</td>\n",
       "    </tr>\n",
       "    <tr>\n",
       "      <th>16</th>\n",
       "      <td>0DXABSHX62VFBXM9D57W0Y13N4</td>\n",
       "      <td>2.300000</td>\n",
       "      <td>828217</td>\n",
       "      <td>2018-06-27 17:48:09 UTC</td>\n",
       "      <td>NaN</td>\n",
       "      <td>NaN</td>\n",
       "      <td>NaN</td>\n",
       "    </tr>\n",
       "    <tr>\n",
       "      <th>17</th>\n",
       "      <td>0DXAHT8ZEPQ1JEQ460DMB78GRF</td>\n",
       "      <td>23.200000</td>\n",
       "      <td>828217</td>\n",
       "      <td>2018-06-27 23:24:57 UTC</td>\n",
       "      <td>NaN</td>\n",
       "      <td>NaN</td>\n",
       "      <td>NaN</td>\n",
       "    </tr>\n",
       "    <tr>\n",
       "      <th>18</th>\n",
       "      <td>0DXAHV2CGK292QYTZV5P0329TE</td>\n",
       "      <td>23.100000</td>\n",
       "      <td>828217</td>\n",
       "      <td>2018-06-27 23:26:20 UTC</td>\n",
       "      <td>NaN</td>\n",
       "      <td>NaN</td>\n",
       "      <td>NaN</td>\n",
       "    </tr>\n",
       "    <tr>\n",
       "      <th>19</th>\n",
       "      <td>0DXB1KB5PF83CQAQ6VVY5H7RZG</td>\n",
       "      <td>13.200000</td>\n",
       "      <td>828217</td>\n",
       "      <td>2018-06-28 14:07:37 UTC</td>\n",
       "      <td>NaN</td>\n",
       "      <td>NaN</td>\n",
       "      <td>NaN</td>\n",
       "    </tr>\n",
       "    <tr>\n",
       "      <th>20</th>\n",
       "      <td>0DXB1KGF9Q3WG2ANZ9DH240XF5</td>\n",
       "      <td>13.200000</td>\n",
       "      <td>828217</td>\n",
       "      <td>2018-06-28 14:07:55 UTC</td>\n",
       "      <td>NaN</td>\n",
       "      <td>NaN</td>\n",
       "      <td>NaN</td>\n",
       "    </tr>\n",
       "    <tr>\n",
       "      <th>21</th>\n",
       "      <td>0DXB1KVETPVASF83R7HZPG2704</td>\n",
       "      <td>13.200000</td>\n",
       "      <td>828217</td>\n",
       "      <td>2018-06-28 14:08:31 UTC</td>\n",
       "      <td>NaN</td>\n",
       "      <td>NaN</td>\n",
       "      <td>NaN</td>\n",
       "    </tr>\n",
       "    <tr>\n",
       "      <th>22</th>\n",
       "      <td>0DXEJBW1STD01JYDGT9C95595N</td>\n",
       "      <td>5.000000</td>\n",
       "      <td>828217</td>\n",
       "      <td>2018-07-02 23:13:59 UTC</td>\n",
       "      <td>NaN</td>\n",
       "      <td>NaN</td>\n",
       "      <td>NaN</td>\n",
       "    </tr>\n",
       "  </tbody>\n",
       "</table>\n",
       "</div>"
      ],
      "text/plain": [
       "                            id       value  feed_id               created_at  \\\n",
       "0   0DX9QZHAKZ65RF1N6H55TYWA1V    0.500000   828217  2018-06-26 23:20:07 UTC   \n",
       "1   0DX9R393CN09706YFHXZXGPS5N    0.300000   828217  2018-06-26 23:26:40 UTC   \n",
       "2   0DX9RDRWPCGPV94SCHQ1VDPAGZ   16.000000   828217  2018-06-26 23:45:00 UTC   \n",
       "3   0DX9RDX97QRZZ72X5BAQ606741  396.000000   828217  2018-06-26 23:45:14 UTC   \n",
       "4   0DX9RFYQSXA06HKGY7N3MWEJDR   84.000000   828217  2018-06-26 23:48:49 UTC   \n",
       "5   0DX9RG1K6CZ4CE6A4HK4MPZ8R5   14.000000   828217  2018-06-26 23:48:58 UTC   \n",
       "6   0DX9RGY9N0SSE52X4J5Y22949R   23.000000   828217  2018-06-26 23:50:32 UTC   \n",
       "7   0DX9RY1CKN6T4DX44B5JXXC6F7    0.028321   828217  2018-06-27 00:13:25 UTC   \n",
       "8   0DX9S4YFEX74QAH29XB1AY55B1    0.500000   828217  2018-06-27 00:25:30 UTC   \n",
       "9   0DX9S5KZS2RR5Y5J958MF60873    0.812327   828217  2018-06-27 00:26:40 UTC   \n",
       "10  0DX9S5SBGV8KXE31CP268MZA2G    0.949176   828217  2018-06-27 00:26:58 UTC   \n",
       "11  0DX9S5VZWBSV78R9C0Q8V8W5C2    0.929870   828217  2018-06-27 00:27:07 UTC   \n",
       "12  0DX9S5X12MYGR97DA6WZW8BGW1    0.992966   828217  2018-06-27 00:27:10 UTC   \n",
       "13  0DX9S5XYF91WE00FC86YBYJD3B    0.363653   828217  2018-06-27 00:27:13 UTC   \n",
       "14  0DX9S5Z9P2GBZ9TTD6HBCXPV6R    0.535468   828217  2018-06-27 00:27:17 UTC   \n",
       "15  0DX9SY79H0PYPWPF5YBGEMSA49    0.400000   828217  2018-06-27 01:09:40 UTC   \n",
       "16  0DXABSHX62VFBXM9D57W0Y13N4    2.300000   828217  2018-06-27 17:48:09 UTC   \n",
       "17  0DXAHT8ZEPQ1JEQ460DMB78GRF   23.200000   828217  2018-06-27 23:24:57 UTC   \n",
       "18  0DXAHV2CGK292QYTZV5P0329TE   23.100000   828217  2018-06-27 23:26:20 UTC   \n",
       "19  0DXB1KB5PF83CQAQ6VVY5H7RZG   13.200000   828217  2018-06-28 14:07:37 UTC   \n",
       "20  0DXB1KGF9Q3WG2ANZ9DH240XF5   13.200000   828217  2018-06-28 14:07:55 UTC   \n",
       "21  0DXB1KVETPVASF83R7HZPG2704   13.200000   828217  2018-06-28 14:08:31 UTC   \n",
       "22  0DXEJBW1STD01JYDGT9C95595N    5.000000   828217  2018-07-02 23:13:59 UTC   \n",
       "\n",
       "    lat  lon  ele  \n",
       "0   NaN  NaN  NaN  \n",
       "1   NaN  NaN  NaN  \n",
       "2   NaN  NaN  NaN  \n",
       "3   NaN  NaN  NaN  \n",
       "4   NaN  NaN  NaN  \n",
       "5   NaN  NaN  NaN  \n",
       "6   NaN  NaN  NaN  \n",
       "7   NaN  NaN  NaN  \n",
       "8   NaN  NaN  NaN  \n",
       "9   NaN  NaN  NaN  \n",
       "10  NaN  NaN  NaN  \n",
       "11  NaN  NaN  NaN  \n",
       "12  NaN  NaN  NaN  \n",
       "13  NaN  NaN  NaN  \n",
       "14  NaN  NaN  NaN  \n",
       "15  NaN  NaN  NaN  \n",
       "16  NaN  NaN  NaN  \n",
       "17  NaN  NaN  NaN  \n",
       "18  NaN  NaN  NaN  \n",
       "19  NaN  NaN  NaN  \n",
       "20  NaN  NaN  NaN  \n",
       "21  NaN  NaN  NaN  \n",
       "22  NaN  NaN  NaN  "
      ]
     },
     "execution_count": 39,
     "metadata": {},
     "output_type": "execute_result"
    }
   ],
   "source": [
    "data"
   ]
  },
  {
   "cell_type": "markdown",
   "metadata": {},
   "source": [
    "When we plot the values, Pandas knows to provide a legend that labels the curves appropriately: "
   ]
  },
  {
   "cell_type": "code",
   "execution_count": 6,
   "metadata": {},
   "outputs": [
    {
     "name": "stdout",
     "output_type": "stream",
     "text": [
      "Populating the interactive namespace from numpy and matplotlib\n"
     ]
    },
    {
     "data": {
      "text/plain": [
       "<matplotlib.axes._subplots.AxesSubplot at 0x7effc3c124e0>"
      ]
     },
     "execution_count": 6,
     "metadata": {},
     "output_type": "execute_result"
    },
    {
     "data": {
      "image/png": "[encoded data removed]",
      "text/plain": [
       "<Figure size 432x288 with 1 Axes>"
      ]
     },
     "metadata": {},
     "output_type": "display_data"
    }
   ],
   "source": [
    "import matplotlib.pyplot as plt\n",
    "%pylab inline\n",
    "\n",
    "data.plot(y='value')"
   ]
  },
  {
   "cell_type": "code",
   "execution_count": 10,
   "metadata": {},
   "outputs": [
    {
     "data": {
      "text/plain": [
       "Timestamp('2018-06-26 23:20:07+0000', tz='tzlocal()')"
      ]
     },
     "execution_count": 10,
     "metadata": {},
     "output_type": "execute_result"
    }
   ],
   "source": [
    "pd.Timestamp(data.created_at[0])"
   ]
  },
  {
   "cell_type": "code",
   "execution_count": 11,
   "metadata": {},
   "outputs": [
    {
     "data": {
      "text/plain": [
       "'2018-06-26 23:20:07 UTC'"
      ]
     },
     "execution_count": 11,
     "metadata": {},
     "output_type": "execute_result"
    }
   ],
   "source": [
    "data.created_at[0]"
   ]
  },
  {
   "cell_type": "code",
   "execution_count": 13,
   "metadata": {},
   "outputs": [
    {
     "data": {
      "text/plain": [
       "DatetimeIndex(['2018-06-26 23:20:07', '2018-06-26 23:26:40',\n",
       "               '2018-06-26 23:45:00', '2018-06-26 23:45:14',\n",
       "               '2018-06-26 23:48:49', '2018-06-26 23:48:58',\n",
       "               '2018-06-26 23:50:32', '2018-06-27 00:13:25',\n",
       "               '2018-06-27 00:25:30', '2018-06-27 00:26:40',\n",
       "               '2018-06-27 00:26:58', '2018-06-27 00:27:07',\n",
       "               '2018-06-27 00:27:10', '2018-06-27 00:27:13',\n",
       "               '2018-06-27 00:27:17', '2018-06-27 01:09:40',\n",
       "               '2018-06-27 17:48:09', '2018-06-27 23:24:57',\n",
       "               '2018-06-27 23:26:20', '2018-06-28 14:07:37',\n",
       "               '2018-06-28 14:07:55', '2018-06-28 14:08:31',\n",
       "               '2018-07-02 23:13:59'],\n",
       "              dtype='datetime64[ns]', name='created_at', freq=None)"
      ]
     },
     "execution_count": 13,
     "metadata": {},
     "output_type": "execute_result"
    }
   ],
   "source": [
    "pd.DatetimeIndex(data.created_at)"
   ]
  },
  {
   "cell_type": "code",
   "execution_count": 17,
   "metadata": {},
   "outputs": [],
   "source": [
    "m=data.as_matrix"
   ]
  },
  {
   "cell_type": "code",
   "execution_count": 22,
   "metadata": {},
   "outputs": [],
   "source": [
    "m=data[['created_at','value']].as_matrix"
   ]
  },
  {
   "cell_type": "code",
   "execution_count": 34,
   "metadata": {},
   "outputs": [],
   "source": [
    "xvals=pd.DatetimeIndex(data.created_at)"
   ]
  },
  {
   "cell_type": "code",
   "execution_count": 36,
   "metadata": {},
   "outputs": [
    {
     "data": {
      "text/plain": [
       "DatetimeIndex(['2018-06-26 23:20:07', '2018-06-26 23:26:40',\n",
       "               '2018-06-26 23:45:00', '2018-06-26 23:45:14',\n",
       "               '2018-06-26 23:48:49', '2018-06-26 23:48:58',\n",
       "               '2018-06-26 23:50:32', '2018-06-27 00:13:25',\n",
       "               '2018-06-27 00:25:30', '2018-06-27 00:26:40',\n",
       "               '2018-06-27 00:26:58', '2018-06-27 00:27:07',\n",
       "               '2018-06-27 00:27:10', '2018-06-27 00:27:13',\n",
       "               '2018-06-27 00:27:17', '2018-06-27 01:09:40',\n",
       "               '2018-06-27 17:48:09', '2018-06-27 23:24:57',\n",
       "               '2018-06-27 23:26:20', '2018-06-28 14:07:37',\n",
       "               '2018-06-28 14:07:55', '2018-06-28 14:08:31',\n",
       "               '2018-07-02 23:13:59'],\n",
       "              dtype='datetime64[ns]', name='created_at', freq=None)"
      ]
     },
     "execution_count": 36,
     "metadata": {},
     "output_type": "execute_result"
    }
   ],
   "source": [
    "xvals"
   ]
  },
  {
   "cell_type": "code",
   "execution_count": null,
   "metadata": {},
   "outputs": [],
   "source": []
  }
 ],
 "metadata": {
  "kernelspec": {
   "display_name": "Python 3",
   "language": "python",
   "name": "python3"
  },
  "language_info": {
   "codemirror_mode": {
    "name": "ipython",
    "version": 3
   },
   "file_extension": ".py",
   "mimetype": "text/x-python",
   "name": "python",
   "nbconvert_exporter": "python",
   "pygments_lexer": "ipython3",
   "version": "3.6.5"
  }
 },
 "nbformat": 4,
 "nbformat_minor": 2
}
