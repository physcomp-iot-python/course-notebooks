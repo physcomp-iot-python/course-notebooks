{
 "cells": [
  {
   "cell_type": "markdown",
   "metadata": {},
   "source": [
    "# Datalogging\n",
    "\n",
    "## code.py: "
   ]
  },
  {
   "cell_type": "markdown",
   "metadata": {},
   "source": [
    "```python\n",
    "import time\n",
    " \n",
    "from adafruit_circuitplayground.express import cpx\n",
    "\n",
    "try:\n",
    "    with open(\"/temperature.txt\", \"a\") as fp:\n",
    "        while True:\n",
    "            temp = cpx.temperature\n",
    "            # do the C-to-F conversion here if you would like\n",
    "            fp.write('{0:f}\\n'.format(temp))\n",
    "            fp.flush()\n",
    "            cpx.red_led = not cpx.red_led\n",
    "            time.sleep(1)\n",
    "except OSError as e:\n",
    "    delay = 0.5\n",
    "    if e.args[0] == 28:\n",
    "        delay = 0.25\n",
    "    while True:\n",
    "        cpx.red_led = not cpx.red_led\n",
    "        time.sleep(delay)\n",
    "```"
   ]
  },
  {
   "cell_type": "markdown",
   "metadata": {},
   "source": [
    "## boot.py"
   ]
  },
  {
   "cell_type": "markdown",
   "metadata": {},
   "source": [
    "```python\n",
    "import board\n",
    "import digitalio\n",
    "import storage\n",
    "\n",
    "switch = digitalio.DigitalInOut(board.D7)\n",
    "switch.direction = digitalio.Direction.INPUT\n",
    "switch.pull = digitalio.Pull.UP\n",
    "\n",
    "# If the D0 is connected to ground with a wire\n",
    "# CircuitPython can write to the drive\n",
    "storage.remount(\"/\", switch.value)\n",
    "```"
   ]
  },
  {
   "cell_type": "code",
   "execution_count": null,
   "metadata": {},
   "outputs": [],
   "source": []
  }
 ],
 "metadata": {
  "kernelspec": {
   "display_name": "Python 3",
   "language": "python",
   "name": "python3"
  },
  "language_info": {
   "codemirror_mode": {
    "name": "ipython",
    "version": 3
   },
   "file_extension": ".py",
   "mimetype": "text/x-python",
   "name": "python",
   "nbconvert_exporter": "python",
   "pygments_lexer": "ipython3",
   "version": "3.6.5"
  }
 },
 "nbformat": 4,
 "nbformat_minor": 2
}
