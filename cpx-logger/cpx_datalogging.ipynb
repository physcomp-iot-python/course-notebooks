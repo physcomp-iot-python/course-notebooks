{
 "cells": [
  {
   "cell_type": "markdown",
   "metadata": {},
   "source": [
    "# Datalogging\n",
    "\n",
    "## code.py: "
   ]
  },
  {
   "cell_type": "markdown",
   "metadata": {},
   "source": [
    "```python\n",
    "import time\n",
    "import board\n",
    "import digitalio\n",
    "import neopixel\n",
    "\n",
    "from adafruit_circuitplayground.express import cpx\n",
    "\n",
    "try:\n",
    "    #check the switch state again\n",
    "    readonly_fs = cpx.switch\n",
    "    if readonly_fs:\n",
    "        #CODING MODE\n",
    "        #setup the NeoPixels for light display\n",
    "        pixels = neopixel.NeoPixel(board.NEOPIXEL, 10, brightness=.2)\n",
    "        pixels.fill((0,0,0))\n",
    "        pixels.show()\n",
    "        num_pixels = len(pixels)\n",
    "        while True:\n",
    "            pixels.fill((0,0,0))\n",
    "            for i in range(num_pixels):\n",
    "                pixels[i] = (0,0,255) #bright BLUE\n",
    "                time.sleep(0.5)\n",
    "    else:    \n",
    "        with open(\"/temperature.txt\", \"a+\") as fp:\n",
    "            while True:\n",
    "                temp = cpx.temperature\n",
    "                # do the C-to-F conversion here if you would like\n",
    "                fp.write('{0:f}\\r\\n'.format(temp))\n",
    "                fp.flush()\n",
    "                cpx.red_led = not cpx.red_led\n",
    "                print(\"logging data\")\n",
    "                time.sleep(1.0)\n",
    "except Exception as e:\n",
    "    print(\"Caught Error: %r\" % e)\n",
    "    delay = 0.5\n",
    "    if e.args[0] == 28:\n",
    "        delay = 0.25\n",
    "    while True:\n",
    "        cpx.red_led = not cpx.red_led\n",
    "        time.sleep(delay)\n",
    "```"
   ]
  },
  {
   "cell_type": "markdown",
   "metadata": {},
   "source": [
    "## boot.py"
   ]
  },
  {
   "cell_type": "markdown",
   "metadata": {},
   "source": [
    "```python\n",
    "import board\n",
    "import digitalio\n",
    "import storage\n",
    "\n",
    "switch = digitalio.DigitalInOut(board.D7)\n",
    "switch.direction = digitalio.Direction.INPUT\n",
    "switch.pull = digitalio.Pull.UP\n",
    "\n",
    "# If the D7 switch is DOWN (when USB on left, \n",
    "# then it is PULLED HIGH, switch.value == True) \n",
    "# and we in CODING MODE.\n",
    "# If it is UP, then we are in DATALOGGING MODE!\n",
    "readonly = switch.value\n",
    "if readonly:\n",
    "    print(\"Entering CODING_MODE\")\n",
    "    storage.remount(\"/\", True)\n",
    "else:\n",
    "    print(\"Entering DATALOGGING_MODE\")\n",
    "    storage.remount(\"/\", False)   \n",
    "```"
   ]
  },
  {
   "cell_type": "code",
   "execution_count": null,
   "metadata": {},
   "outputs": [],
   "source": []
  }
 ],
 "metadata": {
  "kernelspec": {
   "display_name": "Python 3",
   "language": "python",
   "name": "python3"
  },
  "language_info": {
   "codemirror_mode": {
    "name": "ipython",
    "version": 3
   },
   "file_extension": ".py",
   "mimetype": "text/x-python",
   "name": "python",
   "nbconvert_exporter": "python",
   "pygments_lexer": "ipython3",
   "version": "3.6.5"
  }
 },
 "nbformat": 4,
 "nbformat_minor": 2
}
