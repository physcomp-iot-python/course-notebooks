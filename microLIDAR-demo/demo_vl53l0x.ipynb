{
 "cells": [
  {
   "cell_type": "markdown",
   "metadata": {},
   "source": [
    "# Motivation\n"
   ]
  },
  {
   "cell_type": "markdown",
   "metadata": {},
   "source": [
    "# Background\n",
    "Read the [Adafruit learning guide for the vl53l0x Time of Flight LIDAR distance sensor](http://learn.adafruit.com/adafruit-vl53l0x-micro-lidar-distance-sensor-breakout)."
   ]
  },
  {
   "cell_type": "markdown",
   "metadata": {},
   "source": [
    "# Circuit\n",
    "On the **VL53L0X Time of Flight Mirco-LIDAR Distance Sensor Breakout** board connect to CPX:\n",
    "- VIN -> 3.3V  (red)\n",
    "- GND -> GND   (green)\n",
    "- SCL -> SCL   (white, I2C bus Serial CLock)\n",
    "- SDA -> SDA   (yellow, I2C bus Serial DAta)\n",
    "![](adafruit_products_m0_vl53l0x_bb.png)\n",
    "*From Adafruit's guide*"
   ]
  },
  {
   "cell_type": "markdown",
   "metadata": {},
   "source": [
    "# Test the Library\n",
    "Download the *precompiled* [](https://github.com/adafruit/Adafruit_CircuitPython_VL53L0X/releases/download/3.0.1/adafruit-circuitpython-vl53l0x-2.2.1-mpy-3.0.1.zip) module and copy to the CPX."
   ]
  },
  {
   "cell_type": "markdown",
   "metadata": {},
   "source": [
    "Test out the sensor with Adafruit's test code, copy to `code.py`:\n",
    "```python\n",
    "# Demo of reading the range and lux from the VL6180x distance sensor and\n",
    "# printing it every second.\n",
    "# Author: Tony DiCola\n",
    "import time\n",
    "\n",
    "import board\n",
    "import busio\n",
    "\n",
    "import adafruit_vl53l0x\n",
    "\n",
    "\n",
    "# Create I2C bus.\n",
    "i2c = busio.I2C(board.SCL, board.SDA)\n",
    "\n",
    "# Create sensor instance.\n",
    "dist_sensor = adafruit_vl53l0x.VL53L0X(i2c)\n",
    "\n",
    "# Main loop prints the range and lux every second:\n",
    "while True:\n",
    "    # Read the range in millimeters and print it.\n",
    "    range_mm = dist_sensor.range\n",
    "    print('Range: {0}mm'.format(range_mm))\n",
    "    # Read the light, note this requires specifying a gain value:\n",
    "    # - adafruit_vl53l0x.ALS_GAIN_1 = 1x\n",
    "    light_lux = sensor.read_lux(adafruit_vl53l0x.ALS_GAIN_1)\n",
    "    print('Light (1x gain): {0}lux'.format(light_lux))\n",
    "    # Delay for a second.\n",
    "    time.sleep(1.0)\n",
    "```"
   ]
  },
  {
   "cell_type": "markdown",
   "metadata": {},
   "source": [
    "Here is some sample output from the REPL:\n",
    "```\n",
    "Auto-reload is on. Simply save files over USB to run them or enter REPL to disable.\n",
    "code.py output:\n",
    "\n",
    "Range: 255mm\n",
    "Light (1x gain): 7.04lux\n",
    "Range: 255mm\n",
    "Light (1x gain): 7.36lux\n",
    "Range: 255mm\n",
    "Light (1x gain): 7.36lux\n",
    "Range: 44mm\n",
    "Light (1x gain): 6.4lux\n",
    "Range: 29mm\n",
    "Light (1x gain): 4.48lux\n",
    "Range: 45mm\n",
    "Light (1x gain): 5.76lux\n",
    "Range: 255mm\n",
    "Light (1x gain): 5.44lux\n",
    "Range: 255mm\n",
    "Light (1x gain): 5.44lux\n",
    "Range: 255mm\n",
    "Light (1x gain): 5.76lux\n",
    "Range: 132mm\n",
    "Light (1x gain): 7.36lux\n",
    "Range: 71mm\n",
    "Light (1x gain): 7.04lux\n",
    "Range: 47mm\n",
    "Light (1x gain): 6.4lux\n",
    "Range: 41mm\n",
    "Light (1x gain): 6.08lux\n",
    "Range: 52mm\n",
    "Light (1x gain): 6.4lux\n",
    "Range: 56mm\n",
    "Light (1x gain): 6.08lux\n",
    "```"
   ]
  },
  {
   "cell_type": "markdown",
   "metadata": {},
   "source": [
    "# Next steps\n",
    "- Send the dist_sensor values to an Adafruit IO feed.\n",
    "- Trigger security system off of intruder detection."
   ]
  },
  {
   "cell_type": "code",
   "execution_count": null,
   "metadata": {},
   "outputs": [],
   "source": []
  }
 ],
 "metadata": {
  "kernelspec": {
   "display_name": "Python 3",
   "language": "python",
   "name": "python3"
  },
  "language_info": {
   "codemirror_mode": {
    "name": "ipython",
    "version": 3
   },
   "file_extension": ".py",
   "mimetype": "text/x-python",
   "name": "python",
   "nbconvert_exporter": "python",
   "pygments_lexer": "ipython3",
   "version": "3.6.5"
  }
 },
 "nbformat": 4,
 "nbformat_minor": 2
}
