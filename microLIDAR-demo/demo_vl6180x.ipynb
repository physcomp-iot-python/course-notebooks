{
 "cells": [
  {
   "cell_type": "markdown",
   "metadata": {},
   "source": [
    "# Motivation\n",
    "I noticed that my baby was very interested in LED lights, so I want to make my CPX display its NeoPixel lights for him in a simple interactive way.  Detecting the distance of a hand is possible with a laser based distance sensor."
   ]
  },
  {
   "cell_type": "markdown",
   "metadata": {},
   "source": [
    "# Circuit\n",
    "On the **VL6180X Time of Flight Mirco-LIDAR Distance Sensor Breakout** board connect to CPX:\n",
    "- VIN -> 3.3V  (red)\n",
    "- GND -> GND   (green)\n",
    "- SCL -> SCL   (white, I2C bus Serial CLock)\n",
    "- SDA -> SDA   (yellow, I2C bus Serial DAta)"
   ]
  },
  {
   "cell_type": "markdown",
   "metadata": {},
   "source": [
    "<img src=\"circuit.jpg\">"
   ]
  },
  {
   "cell_type": "markdown",
   "metadata": {},
   "source": [
    "# Test the Library\n",
    "Download the *precompiled* [adafruit_vl6180x.mpy](https://github.com/adafruit/Adafruit_CircuitPython_VL6180X/releases/download/1.0.1/adafruit-circuitpython-vl6180x-2.2.1-mpy-1.0.1.zip) module and copy to the CPX."
   ]
  },
  {
   "cell_type": "markdown",
   "metadata": {},
   "source": [
    "Test out the sensor with Adafruit's test code, copy to `code.py`:\n",
    "```python\n",
    "# Demo of reading the range and lux from the VL6180x distance sensor and\n",
    "# printing it every second.\n",
    "# Author: Tony DiCola\n",
    "import time\n",
    "\n",
    "import board\n",
    "import busio\n",
    "\n",
    "import adafruit_vl6180x\n",
    "\n",
    "\n",
    "# Create I2C bus.\n",
    "i2c = busio.I2C(board.SCL, board.SDA)\n",
    "\n",
    "# Create sensor instance.\n",
    "sensor = adafruit_vl6180x.VL6180X(i2c)\n",
    "\n",
    "# Main loop prints the range and lux every second:\n",
    "while True:\n",
    "    # Read the range in millimeters and print it.\n",
    "    range_mm = sensor.range\n",
    "    print('Range: {0}mm'.format(range_mm))\n",
    "    # Read the light, note this requires specifying a gain value:\n",
    "    # - adafruit_vl6180x.ALS_GAIN_1 = 1x\n",
    "    # - adafruit_vl6180x.ALS_GAIN_1_25 = 1.25x\n",
    "    # - adafruit_vl6180x.ALS_GAIN_1_67 = 1.67x\n",
    "    # - adafruit_vl6180x.ALS_GAIN_2_5 = 2.5x\n",
    "    # - adafruit_vl6180x.ALS_GAIN_5 = 5x\n",
    "    # - adafruit_vl6180x.ALS_GAIN_10 = 10x\n",
    "    # - adafruit_vl6180x.ALS_GAIN_20 = 20x\n",
    "    # - adafruit_vl6180x.ALS_GAIN_40 = 40x\n",
    "    light_lux = sensor.read_lux(adafruit_vl6180x.ALS_GAIN_1)\n",
    "    print('Light (1x gain): {0}lux'.format(light_lux))\n",
    "    # Delay for a second.\n",
    "    time.sleep(1.0)\n",
    "```"
   ]
  },
  {
   "cell_type": "markdown",
   "metadata": {},
   "source": [
    "Here is some sample output from the REPL:\n",
    "```\n",
    "Auto-reload is on. Simply save files over USB to run them or enter REPL to disable.\n",
    "code.py output:\n",
    "\n",
    "Range: 255mm\n",
    "Light (1x gain): 7.04lux\n",
    "Range: 255mm\n",
    "Light (1x gain): 7.36lux\n",
    "Range: 255mm\n",
    "Light (1x gain): 7.36lux\n",
    "Range: 44mm\n",
    "Light (1x gain): 6.4lux\n",
    "Range: 29mm\n",
    "Light (1x gain): 4.48lux\n",
    "Range: 45mm\n",
    "Light (1x gain): 5.76lux\n",
    "Range: 255mm\n",
    "Light (1x gain): 5.44lux\n",
    "Range: 255mm\n",
    "Light (1x gain): 5.44lux\n",
    "Range: 255mm\n",
    "Light (1x gain): 5.76lux\n",
    "Range: 132mm\n",
    "Light (1x gain): 7.36lux\n",
    "Range: 71mm\n",
    "Light (1x gain): 7.04lux\n",
    "Range: 47mm\n",
    "Light (1x gain): 6.4lux\n",
    "Range: 41mm\n",
    "Light (1x gain): 6.08lux\n",
    "Range: 52mm\n",
    "Light (1x gain): 6.4lux\n",
    "Range: 56mm\n",
    "Light (1x gain): 6.08lux\n",
    "```"
   ]
  },
  {
   "cell_type": "markdown",
   "metadata": {},
   "source": [
    "# Complete the Project\n",
    "Now we make a simple NeoPixel display to show how close we are to the LIDAR sensor.\n",
    "```python\n",
    "# Demo of reading the range from the VL6180x distance sensor and\n",
    "# showing a \"closeness\" reading NeoPixel display.\n",
    "# Author: Craig Versek, based on example and library by Tony DiCola\n",
    "import time\n",
    "\n",
    "import board\n",
    "import busio\n",
    "\n",
    "import neopixel\n",
    "import adafruit_vl6180x\n",
    "\n",
    "#setup the NeoPixels\n",
    "pixels = neopixel.NeoPixel(board.NEOPIXEL, 10, brightness=.2)\n",
    "pixels.fill((0,0,0))\n",
    "pixels.show()\n",
    "NUM_PIXELS = len(pixels)\n",
    "\n",
    "# Create I2C bus.\n",
    "i2c = busio.I2C(board.SCL, board.SDA)\n",
    "\n",
    "# Create sensor instance.\n",
    "sensor = adafruit_vl6180x.VL6180X(i2c)\n",
    "\n",
    "# Main loop prints the range second and updates NeoPixel display:\n",
    "while True:\n",
    "    # Read the range in millimeters and print it.\n",
    "    range_mm = sensor.range\n",
    "    print((range_mm,))\n",
    "    # Compute the number of pixels to light up based on range\n",
    "    level = int(3*NUM_PIXELS*float(255 - range_mm)/255.0)\n",
    "    # Display\n",
    "    blue_pixels  = level - 2*NUM_PIXELS   #very close\n",
    "    green_pixels = level - NUM_PIXELS     #medium close\n",
    "    red_pixels   = level % NUM_PIXELS     #not so close\n",
    "    if blue_pixels > 0:\n",
    "        for i in range(blue_pixels):\n",
    "            pixels[i] = (0,0,255)\n",
    "    elif green_pixels > 0:\n",
    "        for i in range(green_pixels):\n",
    "            pixels[i] = (0,255,0)\n",
    "    else:\n",
    "        for i in range(red_pixels):\n",
    "            pixels[i] = (255,0,0)    \n",
    "        for i in range(level,NUM_PIXELS): #OFF pixels\n",
    "            pixels[i] = (0,0,0)\n",
    "\n",
    "```"
   ]
  },
  {
   "cell_type": "code",
   "execution_count": null,
   "metadata": {},
   "outputs": [],
   "source": []
  }
 ],
 "metadata": {
  "kernelspec": {
   "display_name": "Python 3",
   "language": "python",
   "name": "python3"
  },
  "language_info": {
   "codemirror_mode": {
    "name": "ipython",
    "version": 3
   },
   "file_extension": ".py",
   "mimetype": "text/x-python",
   "name": "python",
   "nbconvert_exporter": "python",
   "pygments_lexer": "ipython3",
   "version": "3.6.5"
  }
 },
 "nbformat": 4,
 "nbformat_minor": 2
}
